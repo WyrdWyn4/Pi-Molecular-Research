{
 "cells": [
  {
   "cell_type": "markdown",
   "id": "fe4f8b90-47bb-4184-a4b2-be8a8cabefa7",
   "metadata": {},
   "source": [
    "# CReM Notebook"
   ]
  },
  {
   "cell_type": "markdown",
   "id": "102bb2eb-e4e9-48d3-9134-4beee9755b26",
   "metadata": {},
   "source": [
    "# Global Variables and Helper Functions"
   ]
  },
  {
   "cell_type": "code",
   "execution_count": 2,
   "id": "e7c3c8a6-bcf7-45fa-bc00-9e9ed525100a",
   "metadata": {},
   "outputs": [
    {
     "name": "stdout",
     "output_type": "stream",
     "text": [
      "c:\\Users\\walee\\crem\\example\n"
     ]
    }
   ],
   "source": [
    "import os\n",
    "print(os.getcwd())"
   ]
  },
  {
   "cell_type": "code",
   "execution_count": 3,
   "id": "6e457a93-0828-4e1c-a954-18670f3334b0",
   "metadata": {},
   "outputs": [],
   "source": [
    "db = r'C:\\Users\\walee\\crem\\example\\database\\replacements02_sc2.5.db'"
   ]
  },
  {
   "cell_type": "markdown",
   "id": "c8835e59-eaff-4bea-83de-4df2b375ef1b",
   "metadata": {},
   "source": [
    "## Drawer\n",
    "Helper functions to draw molecules with highlighting atoms"
   ]
  },
  {
   "cell_type": "code",
   "execution_count": 4,
   "id": "ac35727d-69f4-4c3b-8c81-78e4bbc8f00f",
   "metadata": {},
   "outputs": [],
   "source": [
    "def drawsvg(mol, highlightAtoms=[], highlightReplacement=False, molSize=(400, 300), kekulize=True):\n",
    "    mc = Chem.Mol(mol.ToBinary())\n",
    "    if kekulize:\n",
    "        try:\n",
    "            Chem.Kekulize(mc)\n",
    "        except:\n",
    "            mc = Chem.Mol(mol.ToBinary())\n",
    "    if not mc.GetNumConformers():\n",
    "        AllChem.Compute2DCoords(mc)\n",
    "    if highlightReplacement:\n",
    "        ids = []\n",
    "        for a in mol.GetAtoms():\n",
    "            if 'react_atom_idx' not in a.GetPropsAsDict():\n",
    "                ids.append(a.GetIdx())\n",
    "        if ids:\n",
    "            highlightAtoms = ids\n",
    "    drawer = rdMolDraw2D.MolDraw2DSVG(molSize[0], molSize[1])\n",
    "    drawer.DrawMolecule(mc, highlightAtoms=highlightAtoms)\n",
    "    drawer.FinishDrawing()\n",
    "    svg = drawer.GetDrawingText()\n",
    "    return SVG(svg.replace('svg:',''))"
   ]
  },
  {
   "cell_type": "code",
   "execution_count": 5,
   "id": "5c3304c3-2342-4fbc-bbbb-c13a467c4356",
   "metadata": {},
   "outputs": [],
   "source": [
    "def drawgrid(mols, highlight=0):\n",
    "    \"\"\"\n",
    "    highlight: 0 - no highlight\n",
    "               1 - highlight changed atoms\n",
    "               2 - highlight unchanged atoms\n",
    "    \"\"\"\n",
    "    if highlight == 0:\n",
    "        return Draw.MolsToGridImage(mols[:8], molsPerRow=4, subImgSize=(300,200), useSVG=True)\n",
    "    else:\n",
    "        ids_list = []\n",
    "        for m in mols:\n",
    "            ids = []\n",
    "            for a in m.GetAtoms():\n",
    "                if 'react_atom_idx' not in a.GetPropsAsDict():\n",
    "                    ids.append(a.GetIdx())\n",
    "            if highlight == 1:\n",
    "                ids_list.append(ids)\n",
    "            elif highlight == 2:\n",
    "                ids_list.append(list(set(range(m.GetNumAtoms())) - set(ids)))\n",
    "        return Draw.MolsToGridImage(mols, molsPerRow=4, subImgSize=(300,200), \n",
    "                                    highlightAtomLists=ids_list, useSVG=True)"
   ]
  },
  {
   "cell_type": "markdown",
   "id": "714ace9a-be75-42ca-b2ab-2507fad234ef",
   "metadata": {},
   "source": [
    "# Structure Generation"
   ]
  },
  {
   "cell_type": "markdown",
   "id": "c57cacef-396b-48af-bb28-4d32c4285f7e",
   "metadata": {},
   "source": [
    "## Mutate Mols"
   ]
  },
  {
   "cell_type": "markdown",
   "id": "2c9c0a32-7f38-48c7-afb7-ab447706e094",
   "metadata": {},
   "source": [
    "### mutate_mol\n",
    "Generate new molecules by replacing fragments in the supplied molecule with fragments from the database."
   ]
  },
  {
   "cell_type": "code",
   "execution_count": 9,
   "id": "e2a99865-4eec-4def-9e62-42d4d9bc07be",
   "metadata": {},
   "outputs": [
    {
     "ename": "OperationalError",
     "evalue": "unable to open database file",
     "output_type": "error",
     "traceback": [
      "\u001b[1;31m---------------------------------------------------------------------------\u001b[0m",
      "\u001b[1;31mOperationalError\u001b[0m                          Traceback (most recent call last)",
      "Input \u001b[1;32mIn [9]\u001b[0m, in \u001b[0;36m<cell line: 5>\u001b[1;34m()\u001b[0m\n\u001b[0;32m      2\u001b[0m \u001b[38;5;28;01mfrom\u001b[39;00m \u001b[38;5;21;01mrdkit\u001b[39;00m \u001b[38;5;28;01mimport\u001b[39;00m Chem\n\u001b[0;32m      4\u001b[0m m \u001b[38;5;241m=\u001b[39m Chem\u001b[38;5;241m.\u001b[39mMolFromSmiles(\u001b[38;5;124m'\u001b[39m\u001b[38;5;124mc1cc(OC)ccc1C\u001b[39m\u001b[38;5;124m'\u001b[39m)\n\u001b[1;32m----> 5\u001b[0m mols \u001b[38;5;241m=\u001b[39m \u001b[38;5;28;43mlist\u001b[39;49m\u001b[43m(\u001b[49m\u001b[43mmutate_mol\u001b[49m\u001b[43m(\u001b[49m\u001b[43mm\u001b[49m\u001b[43m,\u001b[49m\u001b[43m \u001b[49m\u001b[43mdb_name\u001b[49m\u001b[38;5;241;43m=\u001b[39;49m\u001b[38;5;124;43mr\u001b[39;49m\u001b[38;5;124;43m'\u001b[39;49m\u001b[38;5;124;43m\\\u001b[39;49m\u001b[38;5;124;43mexample\u001b[39;49m\u001b[38;5;124;43m\\\u001b[39;49m\u001b[38;5;124;43mdatabase\u001b[39;49m\u001b[38;5;124;43m\\\u001b[39;49m\u001b[38;5;124;43mreplacements02_sc2.5.db\u001b[39;49m\u001b[38;5;124;43m'\u001b[39;49m\u001b[43m,\u001b[49m\u001b[43m \u001b[49m\u001b[43mmax_size\u001b[49m\u001b[38;5;241;43m=\u001b[39;49m\u001b[38;5;241;43m1\u001b[39;49m\u001b[43m)\u001b[49m\u001b[43m)\u001b[49m\n",
      "File \u001b[1;32m~\\AppData\\Local\\Packages\\PythonSoftwareFoundation.Python.3.10_qbz5n2kfra8p0\\LocalCache\\local-packages\\Python310\\site-packages\\crem\\crem.py:509\u001b[0m, in \u001b[0;36mmutate_mol\u001b[1;34m(mol, db_name, radius, min_size, max_size, min_rel_size, max_rel_size, min_inc, max_inc, max_replacements, replace_cycles, replace_ids, protected_ids, symmetry_fixes, min_freq, return_rxn, return_rxn_freq, return_mol, ncores, filter_func, **kwargs)\u001b[0m\n\u001b[0;32m    505\u001b[0m protected_ids \u001b[38;5;241m=\u001b[39m \u001b[38;5;28msorted\u001b[39m(protected_ids)\n\u001b[0;32m    507\u001b[0m \u001b[38;5;28;01mif\u001b[39;00m ncores \u001b[38;5;241m==\u001b[39m \u001b[38;5;241m1\u001b[39m:\n\u001b[1;32m--> 509\u001b[0m     \u001b[38;5;28;01mfor\u001b[39;00m frag_sma, core_sma, freq, ids \u001b[38;5;129;01min\u001b[39;00m __gen_replacements(mol1\u001b[38;5;241m=\u001b[39mmol, mol2\u001b[38;5;241m=\u001b[39m\u001b[38;5;28;01mNone\u001b[39;00m, db_name\u001b[38;5;241m=\u001b[39mdb_name, radius\u001b[38;5;241m=\u001b[39mradius,\n\u001b[0;32m    510\u001b[0m                                                             min_size\u001b[38;5;241m=\u001b[39mmin_size, max_size\u001b[38;5;241m=\u001b[39mmax_size,\n\u001b[0;32m    511\u001b[0m                                                             min_rel_size\u001b[38;5;241m=\u001b[39mmin_rel_size, max_rel_size\u001b[38;5;241m=\u001b[39mmax_rel_size,\n\u001b[0;32m    512\u001b[0m                                                             min_inc\u001b[38;5;241m=\u001b[39mmin_inc, max_inc\u001b[38;5;241m=\u001b[39mmax_inc,\n\u001b[0;32m    513\u001b[0m                                                             max_replacements\u001b[38;5;241m=\u001b[39mmax_replacements,\n\u001b[0;32m    514\u001b[0m                                                             replace_cycles\u001b[38;5;241m=\u001b[39mreplace_cycles,\n\u001b[0;32m    515\u001b[0m                                                             protected_ids_1\u001b[38;5;241m=\u001b[39mprotected_ids, protected_ids_2\u001b[38;5;241m=\u001b[39m\u001b[38;5;28;01mNone\u001b[39;00m,\n\u001b[0;32m    516\u001b[0m                                                             min_freq\u001b[38;5;241m=\u001b[39mmin_freq, symmetry_fixes\u001b[38;5;241m=\u001b[39msymmetry_fixes,\n\u001b[0;32m    517\u001b[0m                                                             filter_func\u001b[38;5;241m=\u001b[39mfilter_func, return_frag_smi_only\u001b[38;5;241m=\u001b[39m\u001b[38;5;28;01mFalse\u001b[39;00m,\n\u001b[0;32m    518\u001b[0m                                                             \u001b[38;5;241m*\u001b[39m\u001b[38;5;241m*\u001b[39mkwargs):\n\u001b[0;32m    519\u001b[0m         \u001b[38;5;28;01mfor\u001b[39;00m smi, m, rxn \u001b[38;5;129;01min\u001b[39;00m __frag_replace(mol, \u001b[38;5;28;01mNone\u001b[39;00m, frag_sma, core_sma, radius, ids, \u001b[38;5;28;01mNone\u001b[39;00m):\n\u001b[0;32m    520\u001b[0m             \u001b[38;5;28;01mif\u001b[39;00m max_replacements \u001b[38;5;129;01mis\u001b[39;00m \u001b[38;5;28;01mNone\u001b[39;00m \u001b[38;5;129;01mor\u001b[39;00m \u001b[38;5;28mlen\u001b[39m(products) \u001b[38;5;241m<\u001b[39m (max_replacements \u001b[38;5;241m+\u001b[39m \u001b[38;5;241m1\u001b[39m):  \u001b[38;5;66;03m# +1 because we added source mol to output smiles\u001b[39;00m\n",
      "File \u001b[1;32m~\\AppData\\Local\\Packages\\PythonSoftwareFoundation.Python.3.10_qbz5n2kfra8p0\\LocalCache\\local-packages\\Python310\\site-packages\\crem\\crem.py:320\u001b[0m, in \u001b[0;36m__gen_replacements\u001b[1;34m(mol1, mol2, db_name, radius, dist, min_size, max_size, min_rel_size, max_rel_size, min_inc, max_inc, max_replacements, replace_cycles, protected_ids_1, protected_ids_2, min_freq, symmetry_fixes, filter_func, return_frag_smi_only, **kwargs)\u001b[0m\n\u001b[0;32m    317\u001b[0m \u001b[38;5;28;01mif\u001b[39;00m f:\n\u001b[0;32m    318\u001b[0m     mol_hac \u001b[38;5;241m=\u001b[39m mol\u001b[38;5;241m.\u001b[39mGetNumHeavyAtoms()\n\u001b[1;32m--> 320\u001b[0m     con \u001b[38;5;241m=\u001b[39m \u001b[43msqlite3\u001b[49m\u001b[38;5;241;43m.\u001b[39;49m\u001b[43mconnect\u001b[49m\u001b[43m(\u001b[49m\u001b[43mdb_name\u001b[49m\u001b[43m)\u001b[49m\n\u001b[0;32m    321\u001b[0m     cur \u001b[38;5;241m=\u001b[39m con\u001b[38;5;241m.\u001b[39mcursor()\n\u001b[0;32m    323\u001b[0m     replacements \u001b[38;5;241m=\u001b[39m \u001b[38;5;28mdict\u001b[39m()  \u001b[38;5;66;03m# to store unused   row_id: (frag_sma, core, ids)\u001b[39;00m\n",
      "\u001b[1;31mOperationalError\u001b[0m: unable to open database file"
     ]
    }
   ],
   "source": [
    "from crem.crem import mutate_mol\n",
    "from rdkit import Chem\n",
    "\n",
    "m = Chem.MolFromSmiles('c1cc(OC)ccc1C')\n",
    "mols = list(mutate_mol(m, db_name=db, max_size=1))"
   ]
  },
  {
   "cell_type": "markdown",
   "id": "28d47661-7423-442d-80ef-59252557bf68",
   "metadata": {},
   "source": [
    "### mutate_mol2:\n",
    "Convenience function for parallel processing using multiprocessing."
   ]
  },
  {
   "cell_type": "code",
   "execution_count": null,
   "id": "42714922-4970-49f6-8644-c60af2f4ab63",
   "metadata": {},
   "outputs": [],
   "source": [
    "from multiprocessing import Pool\n",
    "from functools import partial\n",
    "from crem.crem import mutate_mol2\n",
    "from rdkit import Chem\n",
    "\n",
    "p = Pool(2)\n",
    "input_smi = ['c1ccccc1N', 'NCC(=O)OC', 'NCCCO']\n",
    "input_mols = [Chem.MolFromSmiles(s) for s in input_smi]\n",
    "\n",
    "res = list(p.imap(partial(mutate_mol2, db_name=db, max_size=1), input_mols))"
   ]
  },
  {
   "cell_type": "markdown",
   "id": "ca9bd055-d3a6-46b8-8b46-68c3be61fb1d",
   "metadata": {},
   "source": [
    "## Grow Mols"
   ]
  },
  {
   "cell_type": "markdown",
   "id": "aeab5095-91df-4eb4-8490-b0cf8f17c80b",
   "metadata": {},
   "source": [
    "### grow_mol:\n",
    "Replace hydrogens with fragments from the database."
   ]
  },
  {
   "cell_type": "code",
   "execution_count": null,
   "id": "c2009017-a890-41b1-ba1c-ff7574e4afc0",
   "metadata": {},
   "outputs": [],
   "source": [
    "from crem.crem import grow_mol\n",
    "from rdkit import Chem\n",
    "\n",
    "m = Chem.MolFromSmiles('c1cc(OC)ccc1C')\n",
    "mols = list(grow_mol(m, db_name='replacements_sc2.db'))"
   ]
  },
  {
   "cell_type": "markdown",
   "id": "da5815b3-4891-43bd-b46c-5058ee1b9422",
   "metadata": {},
   "source": [
    "### grow_mol2:\n",
    "Convenience function for parallel processing using multiprocessing."
   ]
  },
  {
   "cell_type": "code",
   "execution_count": null,
   "id": "677270e0-1e03-4acf-8d36-0747bf6f78b1",
   "metadata": {},
   "outputs": [],
   "source": [
    "from multiprocessing import Pool\n",
    "from functools import partial\n",
    "from crem.crem import grow_mol2\n",
    "from rdkit import Chem\n",
    "\n",
    "p = Pool(2)\n",
    "input_smi = ['c1ccccc1N', 'NCC(=O)OC', 'NCCCO']\n",
    "input_mols = [Chem.MolFromSmiles(s) for s in input_smi]\n",
    "\n",
    "res = list(p.imap(partial(grow_mol2, db_name='replacements_sc2.db'), input_mols))"
   ]
  },
  {
   "cell_type": "markdown",
   "id": "b77f0305-b163-404b-8702-4f5f8945a74d",
   "metadata": {},
   "source": [
    "## Link Mols"
   ]
  },
  {
   "cell_type": "markdown",
   "id": "ade863f9-c7fa-4916-9e3e-fa79d1bd818a",
   "metadata": {},
   "source": [
    "### link_mols:\n",
    "Link two molecules by a linker from the database."
   ]
  },
  {
   "cell_type": "code",
   "execution_count": null,
   "id": "0b48548e-561d-4d47-86f4-b85bee680401",
   "metadata": {},
   "outputs": [],
   "source": [
    "from crem.crem import link_mols\n",
    "from rdkit import Chem\n",
    "\n",
    "m1 = Chem.MolFromSmiles('c1cc(OC)ccc1C')\n",
    "m2 = Chem.MolFromSmiles('NCC(=O)O')\n",
    "mols = list(link_mols(m1, m2, db_name=db))"
   ]
  },
  {
   "cell_type": "markdown",
   "id": "b01826a2-8ad0-4735-b823-1e1e8a229df1",
   "metadata": {},
   "source": [
    "### link_mols2:\n",
    "Convenience function for parallel processing using multiprocessing."
   ]
  },
  {
   "cell_type": "code",
   "execution_count": null,
   "id": "6d45f8d1-47f2-4649-9e94-c417e5bccd70",
   "metadata": {},
   "outputs": [],
   "source": [
    "from multiprocessing import Pool\n",
    "from functools import partial\n",
    "from crem.crem import link_mols2\n",
    "from rdkit import Chem\n",
    "\n",
    "p = Pool(2)\n",
    "input_mols = [(Chem.MolFromSmiles('c1cc(OC)ccc1C'), Chem.MolFromSmiles('NCC(=O)O'))]\n",
    "\n",
    "res = list(p.imap(partial(link_mols2, db_name=db), input_mols))"
   ]
  },
  {
   "cell_type": "markdown",
   "id": "8ae0c53c-bb95-4f8e-9972-855f7983330f",
   "metadata": {},
   "source": [
    "# Command Line Utilities"
   ]
  },
  {
   "cell_type": "markdown",
   "id": "e8332d60-bc3b-4bae-987c-5973a55a264a",
   "metadata": {},
   "source": [
    "## Fragmentation:\n",
    "Fragment input compounds by cutting bonds matching bond SMARTS."
   ]
  },
  {
   "cell_type": "code",
   "execution_count": 17,
   "id": "67111233-3796-49e4-b91c-067471a06434",
   "metadata": {},
   "outputs": [
    {
     "name": "stderr",
     "output_type": "stream",
     "text": [
      "'fragmentation' is not recognized as an internal or external command,\n",
      "operable program or batch file.\n"
     ]
    }
   ],
   "source": [
    "!fragmentation -i input.smi -o output.txt [-c NUMBER] [-v]"
   ]
  },
  {
   "cell_type": "markdown",
   "id": "90ebdcd5-5420-469f-92f2-5f2ca763535b",
   "metadata": {},
   "source": [
    "### Convert Fragments to Environment:\n",
    "Create text file for fragment replacement from fragmented molecules."
   ]
  },
  {
   "cell_type": "code",
   "execution_count": null,
   "id": "a246e46c-bc18-4643-baa4-41085f17beac",
   "metadata": {},
   "outputs": [],
   "source": [
    "!frag_to_env -i frags.txt -o output.txt [-k molnames.txt] [-r NUMBER] [-a NUMBER] [-s] [-c NUMBER] [--store_comp_id] [-v]"
   ]
  },
  {
   "cell_type": "markdown",
   "id": "3552ab52-8333-4ce2-a670-d926ba6b3e34",
   "metadata": {},
   "source": [
    "### Create SQLite DB:\n",
    "Create SQLite DB from a text file containing environment fragments."
   ]
  },
  {
   "cell_type": "code",
   "execution_count": null,
   "id": "12efe16c-bf7c-4eb4-8f67-67c0bd3c81a5",
   "metadata": {},
   "outputs": [],
   "source": [
    "!env_to_db -i env_frags.txt -o output.db -r RADIUS [-c] [-n NCPU] [-v]"
   ]
  }
 ],
 "metadata": {
  "kernelspec": {
   "display_name": "Python 3 (ipykernel)",
   "language": "python",
   "name": "python3"
  },
  "language_info": {
   "codemirror_mode": {
    "name": "ipython",
    "version": 3
   },
   "file_extension": ".py",
   "mimetype": "text/x-python",
   "name": "python",
   "nbconvert_exporter": "python",
   "pygments_lexer": "ipython3",
   "version": "3.12.4"
  }
 },
 "nbformat": 4,
 "nbformat_minor": 5
}
